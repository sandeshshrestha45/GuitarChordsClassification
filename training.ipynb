{
 "cells": [
  {
   "cell_type": "code",
   "execution_count": 1,
   "id": "a7577c1e",
   "metadata": {},
   "outputs": [],
   "source": [
    "import matplotlib.pyplot as plt\n",
    "%matplotlib inline"
   ]
  },
  {
   "cell_type": "code",
   "execution_count": 2,
   "id": "dc76a289",
   "metadata": {},
   "outputs": [],
   "source": [
    "import IPython.display as ipd\n",
    "import librosa\n",
    "import librosa.display"
   ]
  },
  {
   "cell_type": "code",
   "execution_count": 3,
   "id": "6d30c75b",
   "metadata": {},
   "outputs": [
    {
     "data": {
      "text/html": [
       "<div>\n",
       "<style scoped>\n",
       "    .dataframe tbody tr th:only-of-type {\n",
       "        vertical-align: middle;\n",
       "    }\n",
       "\n",
       "    .dataframe tbody tr th {\n",
       "        vertical-align: top;\n",
       "    }\n",
       "\n",
       "    .dataframe thead th {\n",
       "        text-align: right;\n",
       "    }\n",
       "</style>\n",
       "<table border=\"1\" class=\"dataframe\">\n",
       "  <thead>\n",
       "    <tr style=\"text-align: right;\">\n",
       "      <th></th>\n",
       "      <th>filename</th>\n",
       "      <th>class</th>\n",
       "      <th>class_id</th>\n",
       "    </tr>\n",
       "  </thead>\n",
       "  <tbody>\n",
       "    <tr>\n",
       "      <th>0</th>\n",
       "      <td>A (2).wav</td>\n",
       "      <td>A</td>\n",
       "      <td>0</td>\n",
       "    </tr>\n",
       "    <tr>\n",
       "      <th>1</th>\n",
       "      <td>A (3).wav</td>\n",
       "      <td>A</td>\n",
       "      <td>0</td>\n",
       "    </tr>\n",
       "    <tr>\n",
       "      <th>2</th>\n",
       "      <td>A (4).wav</td>\n",
       "      <td>A</td>\n",
       "      <td>0</td>\n",
       "    </tr>\n",
       "    <tr>\n",
       "      <th>3</th>\n",
       "      <td>A (5).wav</td>\n",
       "      <td>A</td>\n",
       "      <td>0</td>\n",
       "    </tr>\n",
       "    <tr>\n",
       "      <th>4</th>\n",
       "      <td>A (6).wav</td>\n",
       "      <td>A</td>\n",
       "      <td>0</td>\n",
       "    </tr>\n",
       "    <tr>\n",
       "      <th>5</th>\n",
       "      <td>A (7).wav</td>\n",
       "      <td>A</td>\n",
       "      <td>0</td>\n",
       "    </tr>\n",
       "    <tr>\n",
       "      <th>6</th>\n",
       "      <td>A (8).wav</td>\n",
       "      <td>A</td>\n",
       "      <td>0</td>\n",
       "    </tr>\n",
       "    <tr>\n",
       "      <th>7</th>\n",
       "      <td>A (9).wav</td>\n",
       "      <td>A</td>\n",
       "      <td>0</td>\n",
       "    </tr>\n",
       "    <tr>\n",
       "      <th>8</th>\n",
       "      <td>A (10).wav</td>\n",
       "      <td>A</td>\n",
       "      <td>0</td>\n",
       "    </tr>\n",
       "    <tr>\n",
       "      <th>9</th>\n",
       "      <td>A (11).wav</td>\n",
       "      <td>A</td>\n",
       "      <td>0</td>\n",
       "    </tr>\n",
       "  </tbody>\n",
       "</table>\n",
       "</div>"
      ],
      "text/plain": [
       "     filename class  class_id\n",
       "0   A (2).wav     A         0\n",
       "1   A (3).wav     A         0\n",
       "2   A (4).wav     A         0\n",
       "3   A (5).wav     A         0\n",
       "4   A (6).wav     A         0\n",
       "5   A (7).wav     A         0\n",
       "6   A (8).wav     A         0\n",
       "7   A (9).wav     A         0\n",
       "8  A (10).wav     A         0\n",
       "9  A (11).wav     A         0"
      ]
     },
     "execution_count": 3,
     "metadata": {},
     "output_type": "execute_result"
    }
   ],
   "source": [
    "#### Extracting MFCC's For every audio file\n",
    "import pandas as pd\n",
    "import os\n",
    "audio_dataset_path = 'Dataset25/'\n",
    "metadata=pd.read_csv('Dataset25/chord_metadata.csv', encoding='latin-1')\n",
    "metadata.head(10)"
   ]
  },
  {
   "cell_type": "code",
   "execution_count": 4,
   "id": "07078d5d",
   "metadata": {},
   "outputs": [],
   "source": [
    "def features_extractor(file):\n",
    "    audio, sample_rate = librosa.load(file_name, res_type='kaiser_fast') \n",
    "    mfccs_features = librosa.feature.mfcc(y=audio, sr=sample_rate, n_mfcc=40)\n",
    "    mfccs_scaled_features = np.mean(mfccs_features.T,axis=0)\n",
    "    \n",
    "    return mfccs_scaled_features"
   ]
  },
  {
   "cell_type": "code",
   "execution_count": 5,
   "id": "d3cf164b",
   "metadata": {},
   "outputs": [
    {
     "name": "stderr",
     "output_type": "stream",
     "text": [
      "17629it [06:42, 34.85it/s]C:\\Users\\msi\\anaconda3\\envs\\yolov4-gpu\\lib\\site-packages\\librosa\\core\\spectrum.py:224: UserWarning: n_fft=2048 is too small for input signal of length=1323\n",
      "  n_fft, y.shape[-1]\n",
      "63749it [25:12, 42.14it/s]\n"
     ]
    }
   ],
   "source": [
    "import numpy as np\n",
    "from tqdm import tqdm\n",
    "### Now we iterate through every audio file and extract features \n",
    "### using Mel-Frequency Cepstral Coefficients\n",
    "extracted_features=[]\n",
    "for index_num,row in tqdm(metadata.iterrows()):\n",
    "    file_name = os.path.join(os.path.abspath(audio_dataset_path),str(row[\"class\"]), str(row[\"filename\"]))\n",
    "    final_class_labels=row[\"class\"]\n",
    "    data=features_extractor(file_name)\n",
    "    extracted_features.append([data,final_class_labels])"
   ]
  },
  {
   "cell_type": "code",
   "execution_count": 6,
   "id": "0dfd8690",
   "metadata": {},
   "outputs": [
    {
     "data": {
      "text/html": [
       "<div>\n",
       "<style scoped>\n",
       "    .dataframe tbody tr th:only-of-type {\n",
       "        vertical-align: middle;\n",
       "    }\n",
       "\n",
       "    .dataframe tbody tr th {\n",
       "        vertical-align: top;\n",
       "    }\n",
       "\n",
       "    .dataframe thead th {\n",
       "        text-align: right;\n",
       "    }\n",
       "</style>\n",
       "<table border=\"1\" class=\"dataframe\">\n",
       "  <thead>\n",
       "    <tr style=\"text-align: right;\">\n",
       "      <th></th>\n",
       "      <th>feature</th>\n",
       "      <th>class</th>\n",
       "    </tr>\n",
       "  </thead>\n",
       "  <tbody>\n",
       "    <tr>\n",
       "      <th>0</th>\n",
       "      <td>[-226.62538, 155.14899, -12.193161, 24.57414, ...</td>\n",
       "      <td>A</td>\n",
       "    </tr>\n",
       "    <tr>\n",
       "      <th>1</th>\n",
       "      <td>[-283.57782, 175.26479, -17.304039, 18.349512,...</td>\n",
       "      <td>A</td>\n",
       "    </tr>\n",
       "    <tr>\n",
       "      <th>2</th>\n",
       "      <td>[-256.9038, 150.7816, -3.8070192, 10.22072, 0....</td>\n",
       "      <td>A</td>\n",
       "    </tr>\n",
       "    <tr>\n",
       "      <th>3</th>\n",
       "      <td>[-249.2126, 170.74902, -5.1216016, 10.584855, ...</td>\n",
       "      <td>A</td>\n",
       "    </tr>\n",
       "    <tr>\n",
       "      <th>4</th>\n",
       "      <td>[-286.1759, 160.72075, 2.958544, 22.562437, -1...</td>\n",
       "      <td>A</td>\n",
       "    </tr>\n",
       "  </tbody>\n",
       "</table>\n",
       "</div>"
      ],
      "text/plain": [
       "                                             feature class\n",
       "0  [-226.62538, 155.14899, -12.193161, 24.57414, ...     A\n",
       "1  [-283.57782, 175.26479, -17.304039, 18.349512,...     A\n",
       "2  [-256.9038, 150.7816, -3.8070192, 10.22072, 0....     A\n",
       "3  [-249.2126, 170.74902, -5.1216016, 10.584855, ...     A\n",
       "4  [-286.1759, 160.72075, 2.958544, 22.562437, -1...     A"
      ]
     },
     "execution_count": 6,
     "metadata": {},
     "output_type": "execute_result"
    }
   ],
   "source": [
    "### converting extracted_features to Pandas dataframe\n",
    "extracted_features_df=pd.DataFrame(extracted_features,columns=['feature','class'])\n",
    "extracted_features_df.head()"
   ]
  },
  {
   "cell_type": "code",
   "execution_count": 7,
   "id": "88ffdd4c",
   "metadata": {},
   "outputs": [],
   "source": [
    "### Split the dataset into independent and dependent dataset\n",
    "X=np.array(extracted_features_df['feature'].tolist())\n",
    "y=np.array(extracted_features_df['class'].tolist())"
   ]
  },
  {
   "cell_type": "code",
   "execution_count": 8,
   "id": "056e25ad",
   "metadata": {},
   "outputs": [
    {
     "data": {
      "text/plain": [
       "(63749, 40)"
      ]
     },
     "execution_count": 8,
     "metadata": {},
     "output_type": "execute_result"
    }
   ],
   "source": [
    "X.shape"
   ]
  },
  {
   "cell_type": "code",
   "execution_count": 9,
   "id": "6d1365e8",
   "metadata": {},
   "outputs": [
    {
     "data": {
      "text/plain": [
       "array(['A', 'A', 'A', ..., 'Gm', 'Gm', 'Gm'], dtype='<U15')"
      ]
     },
     "execution_count": 9,
     "metadata": {},
     "output_type": "execute_result"
    }
   ],
   "source": [
    "y"
   ]
  },
  {
   "cell_type": "code",
   "execution_count": 10,
   "id": "d4e47f49",
   "metadata": {},
   "outputs": [],
   "source": [
    "#label encoding\n",
    "from tensorflow.keras.utils import to_categorical\n",
    "from sklearn.preprocessing import LabelEncoder\n",
    "labelencoder=LabelEncoder()\n",
    "y=to_categorical(labelencoder.fit_transform(y))"
   ]
  },
  {
   "cell_type": "code",
   "execution_count": 11,
   "id": "a4fce6cc",
   "metadata": {},
   "outputs": [
    {
     "data": {
      "text/plain": [
       "array([[1., 0., 0., ..., 0., 0., 0.],\n",
       "       [1., 0., 0., ..., 0., 0., 0.],\n",
       "       [1., 0., 0., ..., 0., 0., 0.],\n",
       "       ...,\n",
       "       [0., 0., 0., ..., 0., 0., 1.],\n",
       "       [0., 0., 0., ..., 0., 0., 1.],\n",
       "       [0., 0., 0., ..., 0., 0., 1.]], dtype=float32)"
      ]
     },
     "execution_count": 11,
     "metadata": {},
     "output_type": "execute_result"
    }
   ],
   "source": [
    "y"
   ]
  },
  {
   "cell_type": "code",
   "execution_count": 12,
   "id": "4f474254",
   "metadata": {},
   "outputs": [
    {
     "data": {
      "text/plain": [
       "(63749, 25)"
      ]
     },
     "execution_count": 12,
     "metadata": {},
     "output_type": "execute_result"
    }
   ],
   "source": [
    "y.shape"
   ]
  },
  {
   "cell_type": "code",
   "execution_count": 13,
   "id": "bf799948",
   "metadata": {},
   "outputs": [],
   "source": [
    "### Train Test Split\n",
    "from sklearn.model_selection import train_test_split\n",
    "X_train,X_test,y_train,y_test=train_test_split(X,y,test_size=0.2,random_state=42)"
   ]
  },
  {
   "cell_type": "code",
   "execution_count": 14,
   "id": "69c41360",
   "metadata": {},
   "outputs": [
    {
     "data": {
      "text/plain": [
       "array([[-4.63197357e+02,  1.34707581e+02,  8.68994808e+00, ...,\n",
       "         4.38757324e+00, -2.36326504e+00, -1.16418886e+01],\n",
       "       [-3.03641235e+02,  1.36584686e+02, -1.23469152e+01, ...,\n",
       "         6.37259817e+00,  2.75270104e+00,  2.93642342e-01],\n",
       "       [-4.57863007e+02,  1.11551765e+02,  4.57621622e+00, ...,\n",
       "        -1.56371319e+00,  3.88341689e+00, -7.89621305e+00],\n",
       "       ...,\n",
       "       [-3.98615601e+02,  1.45724915e+02,  4.85784531e+01, ...,\n",
       "        -3.92145300e+00, -2.94256616e+00,  6.13953829e-01],\n",
       "       [-3.09833221e+02,  5.47068634e+01, -6.88191376e+01, ...,\n",
       "         2.68547535e+00, -1.70042908e+00,  4.30860233e+00],\n",
       "       [-2.60631378e+02,  1.09430779e+02, -9.90855312e+00, ...,\n",
       "        -4.82861662e+00, -7.51206064e+00, -5.20188332e-01]], dtype=float32)"
      ]
     },
     "execution_count": 14,
     "metadata": {},
     "output_type": "execute_result"
    }
   ],
   "source": [
    "X_train\n"
   ]
  },
  {
   "cell_type": "code",
   "execution_count": 15,
   "id": "e9c2e0fb",
   "metadata": {},
   "outputs": [
    {
     "data": {
      "text/plain": [
       "(50999, 40)"
      ]
     },
     "execution_count": 15,
     "metadata": {},
     "output_type": "execute_result"
    }
   ],
   "source": [
    "X_train.shape"
   ]
  },
  {
   "cell_type": "code",
   "execution_count": 16,
   "id": "20492585",
   "metadata": {},
   "outputs": [
    {
     "data": {
      "text/plain": [
       "(50999, 25)"
      ]
     },
     "execution_count": 16,
     "metadata": {},
     "output_type": "execute_result"
    }
   ],
   "source": [
    "y_train.shape"
   ]
  },
  {
   "cell_type": "code",
   "execution_count": 17,
   "id": "b97ce86d",
   "metadata": {},
   "outputs": [
    {
     "data": {
      "text/plain": [
       "(12750, 40)"
      ]
     },
     "execution_count": 17,
     "metadata": {},
     "output_type": "execute_result"
    }
   ],
   "source": [
    "X_test.shape"
   ]
  },
  {
   "cell_type": "code",
   "execution_count": 18,
   "id": "efe84739",
   "metadata": {},
   "outputs": [
    {
     "data": {
      "text/plain": [
       "(12750, 25)"
      ]
     },
     "execution_count": 18,
     "metadata": {},
     "output_type": "execute_result"
    }
   ],
   "source": [
    "y_test.shape"
   ]
  },
  {
   "attachments": {},
   "cell_type": "markdown",
   "id": "39330c61",
   "metadata": {},
   "source": [
    "Model Creation"
   ]
  },
  {
   "cell_type": "code",
   "execution_count": 19,
   "id": "20a95f33",
   "metadata": {},
   "outputs": [
    {
     "name": "stdout",
     "output_type": "stream",
     "text": [
      "2.9.0\n"
     ]
    }
   ],
   "source": [
    "import tensorflow as tf\n",
    "print(tf.__version__)"
   ]
  },
  {
   "cell_type": "code",
   "execution_count": 20,
   "id": "89e9ecab",
   "metadata": {},
   "outputs": [],
   "source": [
    "from tensorflow.keras.models import Sequential\n",
    "from tensorflow.keras.layers import Dense,Dropout,Activation,Flatten,BatchNormalization\n",
    "from tensorflow.keras.optimizers import Adam\n",
    "from sklearn import metrics"
   ]
  },
  {
   "cell_type": "code",
   "execution_count": 21,
   "id": "98e6a469",
   "metadata": {},
   "outputs": [],
   "source": [
    "### No of classes\n",
    "num_labels=y.shape[1]"
   ]
  },
  {
   "cell_type": "code",
   "execution_count": 22,
   "id": "1fb5e973",
   "metadata": {},
   "outputs": [
    {
     "data": {
      "text/plain": [
       "25"
      ]
     },
     "execution_count": 22,
     "metadata": {},
     "output_type": "execute_result"
    }
   ],
   "source": [
    "num_labels"
   ]
  },
  {
   "cell_type": "code",
   "execution_count": 23,
   "id": "b2b6df27",
   "metadata": {},
   "outputs": [],
   "source": [
    "model = Sequential([\n",
    "    Dense(512, input_shape=(40,), activation=\"relu\"),\n",
    "    Dense(1024, activation='relu'),\n",
    "    Dropout(0.3),\n",
    "    Dense(512, activation='relu'),\n",
    "    Dropout(0.3),\n",
    "    Dense(128, activation='relu'),\n",
    "    Dense(64, activation='relu'),\n",
    "    Dropout(0.2),\n",
    "    Dense(num_labels, activation='softmax')\n",
    "]);"
   ]
  },
  {
   "cell_type": "code",
   "execution_count": 24,
   "id": "4bb3dc0e",
   "metadata": {},
   "outputs": [
    {
     "name": "stdout",
     "output_type": "stream",
     "text": [
      "Model: \"sequential\"\n",
      "_________________________________________________________________\n",
      " Layer (type)                Output Shape              Param #   \n",
      "=================================================================\n",
      " dense (Dense)               (None, 512)               20992     \n",
      "                                                                 \n",
      " dense_1 (Dense)             (None, 1024)              525312    \n",
      "                                                                 \n",
      " dropout (Dropout)           (None, 1024)              0         \n",
      "                                                                 \n",
      " dense_2 (Dense)             (None, 512)               524800    \n",
      "                                                                 \n",
      " dropout_1 (Dropout)         (None, 512)               0         \n",
      "                                                                 \n",
      " dense_3 (Dense)             (None, 128)               65664     \n",
      "                                                                 \n",
      " dense_4 (Dense)             (None, 64)                8256      \n",
      "                                                                 \n",
      " dropout_2 (Dropout)         (None, 64)                0         \n",
      "                                                                 \n",
      " dense_5 (Dense)             (None, 25)                1625      \n",
      "                                                                 \n",
      "=================================================================\n",
      "Total params: 1,146,649\n",
      "Trainable params: 1,146,649\n",
      "Non-trainable params: 0\n",
      "_________________________________________________________________\n"
     ]
    }
   ],
   "source": [
    "model.summary()"
   ]
  },
  {
   "cell_type": "code",
   "execution_count": 25,
   "id": "d939f307",
   "metadata": {},
   "outputs": [],
   "source": [
    "model.compile(loss='categorical_crossentropy',metrics=['accuracy'],optimizer=tf.keras.optimizers.Adam(learning_rate=0.0001))\n"
   ]
  },
  {
   "cell_type": "code",
   "execution_count": 26,
   "id": "c54d914d",
   "metadata": {},
   "outputs": [
    {
     "name": "stdout",
     "output_type": "stream",
     "text": [
      "Epoch 1/100\n",
      "1585/1594 [============================>.] - ETA: 0s - loss: 2.7561 - accuracy: 0.2295\n",
      "Epoch 1: val_loss improved from inf to 0.81978, saving model to saved_model\\chord_classification.hdf5\n",
      "1594/1594 [==============================] - 9s 4ms/step - loss: 2.7484 - accuracy: 0.2314 - val_loss: 0.8198 - val_accuracy: 0.7944\n",
      "Epoch 2/100\n",
      "1582/1594 [============================>.] - ETA: 0s - loss: 0.8776 - accuracy: 0.7315\n",
      "Epoch 2: val_loss improved from 0.81978 to 0.35507, saving model to saved_model\\chord_classification.hdf5\n",
      "1594/1594 [==============================] - 7s 5ms/step - loss: 0.8762 - accuracy: 0.7318 - val_loss: 0.3551 - val_accuracy: 0.8936\n",
      "Epoch 3/100\n",
      "1593/1594 [============================>.] - ETA: 0s - loss: 0.5534 - accuracy: 0.8324\n",
      "Epoch 3: val_loss improved from 0.35507 to 0.34120, saving model to saved_model\\chord_classification.hdf5\n",
      "1594/1594 [==============================] - 6s 4ms/step - loss: 0.5535 - accuracy: 0.8324 - val_loss: 0.3412 - val_accuracy: 0.8922\n",
      "Epoch 4/100\n",
      "1594/1594 [==============================] - ETA: 0s - loss: 0.4604 - accuracy: 0.8637\n",
      "Epoch 4: val_loss improved from 0.34120 to 0.25574, saving model to saved_model\\chord_classification.hdf5\n",
      "1594/1594 [==============================] - 6s 4ms/step - loss: 0.4604 - accuracy: 0.8637 - val_loss: 0.2557 - val_accuracy: 0.9207\n",
      "Epoch 5/100\n",
      "1589/1594 [============================>.] - ETA: 0s - loss: 0.4012 - accuracy: 0.8784\n",
      "Epoch 5: val_loss did not improve from 0.25574\n",
      "1594/1594 [==============================] - 6s 4ms/step - loss: 0.4010 - accuracy: 0.8785 - val_loss: 0.2630 - val_accuracy: 0.9193\n",
      "Epoch 6/100\n",
      "1588/1594 [============================>.] - ETA: 0s - loss: 0.3606 - accuracy: 0.8924\n",
      "Epoch 6: val_loss improved from 0.25574 to 0.23227, saving model to saved_model\\chord_classification.hdf5\n",
      "1594/1594 [==============================] - 7s 4ms/step - loss: 0.3604 - accuracy: 0.8924 - val_loss: 0.2323 - val_accuracy: 0.9275\n",
      "Epoch 7/100\n",
      "1590/1594 [============================>.] - ETA: 0s - loss: 0.3252 - accuracy: 0.9025\n",
      "Epoch 7: val_loss improved from 0.23227 to 0.21410, saving model to saved_model\\chord_classification.hdf5\n",
      "1594/1594 [==============================] - 7s 4ms/step - loss: 0.3250 - accuracy: 0.9025 - val_loss: 0.2141 - val_accuracy: 0.9331\n",
      "Epoch 8/100\n",
      "1591/1594 [============================>.] - ETA: 0s - loss: 0.3056 - accuracy: 0.9067\n",
      "Epoch 8: val_loss improved from 0.21410 to 0.20212, saving model to saved_model\\chord_classification.hdf5\n",
      "1594/1594 [==============================] - 7s 4ms/step - loss: 0.3057 - accuracy: 0.9067 - val_loss: 0.2021 - val_accuracy: 0.9358\n",
      "Epoch 9/100\n",
      "1591/1594 [============================>.] - ETA: 0s - loss: 0.2855 - accuracy: 0.9142\n",
      "Epoch 9: val_loss improved from 0.20212 to 0.20159, saving model to saved_model\\chord_classification.hdf5\n",
      "1594/1594 [==============================] - 7s 4ms/step - loss: 0.2859 - accuracy: 0.9142 - val_loss: 0.2016 - val_accuracy: 0.9370\n",
      "Epoch 10/100\n",
      "1583/1594 [============================>.] - ETA: 0s - loss: 0.2650 - accuracy: 0.9198\n",
      "Epoch 10: val_loss improved from 0.20159 to 0.19316, saving model to saved_model\\chord_classification.hdf5\n",
      "1594/1594 [==============================] - 7s 4ms/step - loss: 0.2647 - accuracy: 0.9198 - val_loss: 0.1932 - val_accuracy: 0.9371\n",
      "Epoch 11/100\n",
      "1592/1594 [============================>.] - ETA: 0s - loss: 0.2493 - accuracy: 0.9244\n",
      "Epoch 11: val_loss improved from 0.19316 to 0.17355, saving model to saved_model\\chord_classification.hdf5\n",
      "1594/1594 [==============================] - 7s 4ms/step - loss: 0.2493 - accuracy: 0.9244 - val_loss: 0.1735 - val_accuracy: 0.9446\n",
      "Epoch 12/100\n",
      "1583/1594 [============================>.] - ETA: 0s - loss: 0.2366 - accuracy: 0.9276\n",
      "Epoch 12: val_loss improved from 0.17355 to 0.16921, saving model to saved_model\\chord_classification.hdf5\n",
      "1594/1594 [==============================] - 7s 4ms/step - loss: 0.2367 - accuracy: 0.9276 - val_loss: 0.1692 - val_accuracy: 0.9462\n",
      "Epoch 13/100\n",
      "1590/1594 [============================>.] - ETA: 0s - loss: 0.2220 - accuracy: 0.9313\n",
      "Epoch 13: val_loss did not improve from 0.16921\n",
      "1594/1594 [==============================] - 6s 4ms/step - loss: 0.2222 - accuracy: 0.9312 - val_loss: 0.1697 - val_accuracy: 0.9452\n",
      "Epoch 14/100\n",
      "1581/1594 [============================>.] - ETA: 0s - loss: 0.2123 - accuracy: 0.9354\n",
      "Epoch 14: val_loss improved from 0.16921 to 0.16525, saving model to saved_model\\chord_classification.hdf5\n",
      "1594/1594 [==============================] - 7s 4ms/step - loss: 0.2123 - accuracy: 0.9353 - val_loss: 0.1653 - val_accuracy: 0.9475\n",
      "Epoch 15/100\n",
      "1588/1594 [============================>.] - ETA: 0s - loss: 0.1987 - accuracy: 0.9394\n",
      "Epoch 15: val_loss improved from 0.16525 to 0.15474, saving model to saved_model\\chord_classification.hdf5\n",
      "1594/1594 [==============================] - 6s 4ms/step - loss: 0.1985 - accuracy: 0.9395 - val_loss: 0.1547 - val_accuracy: 0.9506\n",
      "Epoch 16/100\n",
      "1582/1594 [============================>.] - ETA: 0s - loss: 0.1883 - accuracy: 0.9412\n",
      "Epoch 16: val_loss did not improve from 0.15474\n",
      "1594/1594 [==============================] - 7s 4ms/step - loss: 0.1881 - accuracy: 0.9413 - val_loss: 0.1564 - val_accuracy: 0.9509\n",
      "Epoch 17/100\n",
      "1590/1594 [============================>.] - ETA: 0s - loss: 0.1775 - accuracy: 0.9451\n",
      "Epoch 17: val_loss improved from 0.15474 to 0.15366, saving model to saved_model\\chord_classification.hdf5\n",
      "1594/1594 [==============================] - 7s 5ms/step - loss: 0.1775 - accuracy: 0.9451 - val_loss: 0.1537 - val_accuracy: 0.9523\n",
      "Epoch 18/100\n",
      "1582/1594 [============================>.] - ETA: 0s - loss: 0.1704 - accuracy: 0.9476\n",
      "Epoch 18: val_loss improved from 0.15366 to 0.15026, saving model to saved_model\\chord_classification.hdf5\n",
      "1594/1594 [==============================] - 7s 4ms/step - loss: 0.1708 - accuracy: 0.9475 - val_loss: 0.1503 - val_accuracy: 0.9523\n",
      "Epoch 19/100\n",
      "1583/1594 [============================>.] - ETA: 0s - loss: 0.1623 - accuracy: 0.9490\n",
      "Epoch 19: val_loss did not improve from 0.15026\n",
      "1594/1594 [==============================] - 7s 4ms/step - loss: 0.1625 - accuracy: 0.9490 - val_loss: 0.1530 - val_accuracy: 0.9535\n",
      "Epoch 20/100\n",
      "1582/1594 [============================>.] - ETA: 0s - loss: 0.1564 - accuracy: 0.9501\n",
      "Epoch 20: val_loss improved from 0.15026 to 0.13981, saving model to saved_model\\chord_classification.hdf5\n",
      "1594/1594 [==============================] - 7s 4ms/step - loss: 0.1562 - accuracy: 0.9502 - val_loss: 0.1398 - val_accuracy: 0.9564\n",
      "Epoch 21/100\n",
      "1588/1594 [============================>.] - ETA: 0s - loss: 0.1470 - accuracy: 0.9539\n",
      "Epoch 21: val_loss did not improve from 0.13981\n",
      "1594/1594 [==============================] - 7s 4ms/step - loss: 0.1470 - accuracy: 0.9539 - val_loss: 0.1443 - val_accuracy: 0.9562\n",
      "Epoch 22/100\n",
      "1592/1594 [============================>.] - ETA: 0s - loss: 0.1388 - accuracy: 0.9565\n",
      "Epoch 22: val_loss did not improve from 0.13981\n",
      "1594/1594 [==============================] - 7s 4ms/step - loss: 0.1390 - accuracy: 0.9564 - val_loss: 0.1402 - val_accuracy: 0.9571\n",
      "Epoch 23/100\n",
      "1585/1594 [============================>.] - ETA: 0s - loss: 0.1337 - accuracy: 0.9578\n",
      "Epoch 23: val_loss improved from 0.13981 to 0.13955, saving model to saved_model\\chord_classification.hdf5\n",
      "1594/1594 [==============================] - 7s 4ms/step - loss: 0.1336 - accuracy: 0.9578 - val_loss: 0.1395 - val_accuracy: 0.9577\n",
      "Epoch 24/100\n",
      "1589/1594 [============================>.] - ETA: 0s - loss: 0.1290 - accuracy: 0.9597\n",
      "Epoch 24: val_loss did not improve from 0.13955\n",
      "1594/1594 [==============================] - 7s 4ms/step - loss: 0.1290 - accuracy: 0.9597 - val_loss: 0.1507 - val_accuracy: 0.9553\n",
      "Epoch 25/100\n",
      "1589/1594 [============================>.] - ETA: 0s - loss: 0.1202 - accuracy: 0.9610\n",
      "Epoch 25: val_loss did not improve from 0.13955\n",
      "1594/1594 [==============================] - 8s 5ms/step - loss: 0.1204 - accuracy: 0.9609 - val_loss: 0.1415 - val_accuracy: 0.9555\n",
      "Epoch 26/100\n",
      "1587/1594 [============================>.] - ETA: 0s - loss: 0.1150 - accuracy: 0.9640\n",
      "Epoch 26: val_loss improved from 0.13955 to 0.13595, saving model to saved_model\\chord_classification.hdf5\n"
     ]
    },
    {
     "name": "stdout",
     "output_type": "stream",
     "text": [
      "1594/1594 [==============================] - 8s 5ms/step - loss: 0.1148 - accuracy: 0.9640 - val_loss: 0.1359 - val_accuracy: 0.9577\n",
      "Epoch 27/100\n",
      "1584/1594 [============================>.] - ETA: 0s - loss: 0.1075 - accuracy: 0.9654\n",
      "Epoch 27: val_loss did not improve from 0.13595\n",
      "1594/1594 [==============================] - 8s 5ms/step - loss: 0.1076 - accuracy: 0.9654 - val_loss: 0.1375 - val_accuracy: 0.9594\n",
      "Epoch 28/100\n",
      "1589/1594 [============================>.] - ETA: 0s - loss: 0.1038 - accuracy: 0.9667\n",
      "Epoch 28: val_loss did not improve from 0.13595\n",
      "1594/1594 [==============================] - 8s 5ms/step - loss: 0.1038 - accuracy: 0.9667 - val_loss: 0.1415 - val_accuracy: 0.9569\n",
      "Epoch 29/100\n",
      "1590/1594 [============================>.] - ETA: 0s - loss: 0.1024 - accuracy: 0.9670\n",
      "Epoch 29: val_loss did not improve from 0.13595\n",
      "1594/1594 [==============================] - 8s 5ms/step - loss: 0.1023 - accuracy: 0.9670 - val_loss: 0.1393 - val_accuracy: 0.9582\n",
      "Epoch 30/100\n",
      "1586/1594 [============================>.] - ETA: 0s - loss: 0.0965 - accuracy: 0.9681\n",
      "Epoch 30: val_loss improved from 0.13595 to 0.13309, saving model to saved_model\\chord_classification.hdf5\n",
      "1594/1594 [==============================] - 8s 5ms/step - loss: 0.0967 - accuracy: 0.9681 - val_loss: 0.1331 - val_accuracy: 0.9601\n",
      "Epoch 31/100\n",
      "1584/1594 [============================>.] - ETA: 0s - loss: 0.0938 - accuracy: 0.9699\n",
      "Epoch 31: val_loss improved from 0.13309 to 0.12911, saving model to saved_model\\chord_classification.hdf5\n",
      "1594/1594 [==============================] - 7s 5ms/step - loss: 0.0938 - accuracy: 0.9699 - val_loss: 0.1291 - val_accuracy: 0.9618\n",
      "Epoch 32/100\n",
      "1582/1594 [============================>.] - ETA: 0s - loss: 0.0880 - accuracy: 0.9712\n",
      "Epoch 32: val_loss did not improve from 0.12911\n",
      "1594/1594 [==============================] - 7s 5ms/step - loss: 0.0879 - accuracy: 0.9713 - val_loss: 0.1423 - val_accuracy: 0.9585\n",
      "Epoch 33/100\n",
      "1594/1594 [==============================] - ETA: 0s - loss: 0.0848 - accuracy: 0.9736\n",
      "Epoch 33: val_loss did not improve from 0.12911\n",
      "1594/1594 [==============================] - 7s 5ms/step - loss: 0.0848 - accuracy: 0.9736 - val_loss: 0.1403 - val_accuracy: 0.9610\n",
      "Epoch 34/100\n",
      "1584/1594 [============================>.] - ETA: 0s - loss: 0.0816 - accuracy: 0.9742\n",
      "Epoch 34: val_loss did not improve from 0.12911\n",
      "1594/1594 [==============================] - 7s 5ms/step - loss: 0.0815 - accuracy: 0.9743 - val_loss: 0.1529 - val_accuracy: 0.9584\n",
      "Epoch 35/100\n",
      "1587/1594 [============================>.] - ETA: 0s - loss: 0.0758 - accuracy: 0.9751\n",
      "Epoch 35: val_loss did not improve from 0.12911\n",
      "1594/1594 [==============================] - 8s 5ms/step - loss: 0.0760 - accuracy: 0.9751 - val_loss: 0.1407 - val_accuracy: 0.9588\n",
      "Epoch 36/100\n",
      "1584/1594 [============================>.] - ETA: 0s - loss: 0.0751 - accuracy: 0.9759\n",
      "Epoch 36: val_loss did not improve from 0.12911\n",
      "1594/1594 [==============================] - 8s 5ms/step - loss: 0.0750 - accuracy: 0.9759 - val_loss: 0.1359 - val_accuracy: 0.9616\n",
      "Epoch 37/100\n",
      "1585/1594 [============================>.] - ETA: 0s - loss: 0.0706 - accuracy: 0.9770\n",
      "Epoch 37: val_loss did not improve from 0.12911\n",
      "1594/1594 [==============================] - 8s 5ms/step - loss: 0.0704 - accuracy: 0.9771 - val_loss: 0.1646 - val_accuracy: 0.9561\n",
      "Epoch 38/100\n",
      "1594/1594 [==============================] - ETA: 0s - loss: 0.0663 - accuracy: 0.9783\n",
      "Epoch 38: val_loss did not improve from 0.12911\n",
      "1594/1594 [==============================] - 7s 4ms/step - loss: 0.0663 - accuracy: 0.9783 - val_loss: 0.1363 - val_accuracy: 0.9623\n",
      "Epoch 39/100\n",
      "1592/1594 [============================>.] - ETA: 0s - loss: 0.0672 - accuracy: 0.9782\n",
      "Epoch 39: val_loss did not improve from 0.12911\n",
      "1594/1594 [==============================] - 7s 5ms/step - loss: 0.0672 - accuracy: 0.9782 - val_loss: 0.1471 - val_accuracy: 0.9606\n",
      "Epoch 40/100\n",
      "1590/1594 [============================>.] - ETA: 0s - loss: 0.0619 - accuracy: 0.9791\n",
      "Epoch 40: val_loss did not improve from 0.12911\n",
      "1594/1594 [==============================] - 7s 5ms/step - loss: 0.0619 - accuracy: 0.9791 - val_loss: 0.1502 - val_accuracy: 0.9609\n",
      "Epoch 41/100\n",
      "1584/1594 [============================>.] - ETA: 0s - loss: 0.0615 - accuracy: 0.9798\n",
      "Epoch 41: val_loss did not improve from 0.12911\n",
      "1594/1594 [==============================] - 7s 5ms/step - loss: 0.0613 - accuracy: 0.9798 - val_loss: 0.1490 - val_accuracy: 0.9610\n",
      "Epoch 42/100\n",
      "1591/1594 [============================>.] - ETA: 0s - loss: 0.0584 - accuracy: 0.9813\n",
      "Epoch 42: val_loss did not improve from 0.12911\n",
      "1594/1594 [==============================] - 7s 5ms/step - loss: 0.0584 - accuracy: 0.9813 - val_loss: 0.1477 - val_accuracy: 0.9622\n",
      "Epoch 43/100\n",
      "1588/1594 [============================>.] - ETA: 0s - loss: 0.0570 - accuracy: 0.9814\n",
      "Epoch 43: val_loss did not improve from 0.12911\n",
      "1594/1594 [==============================] - 7s 5ms/step - loss: 0.0570 - accuracy: 0.9813 - val_loss: 0.1471 - val_accuracy: 0.9621\n",
      "Epoch 44/100\n",
      "1594/1594 [==============================] - ETA: 0s - loss: 0.0523 - accuracy: 0.9830\n",
      "Epoch 44: val_loss did not improve from 0.12911\n",
      "1594/1594 [==============================] - 7s 5ms/step - loss: 0.0523 - accuracy: 0.9830 - val_loss: 0.1488 - val_accuracy: 0.9627\n",
      "Epoch 45/100\n",
      "1590/1594 [============================>.] - ETA: 0s - loss: 0.0518 - accuracy: 0.9830\n",
      "Epoch 45: val_loss did not improve from 0.12911\n",
      "1594/1594 [==============================] - 7s 5ms/step - loss: 0.0517 - accuracy: 0.9830 - val_loss: 0.1475 - val_accuracy: 0.9617\n",
      "Epoch 46/100\n",
      "1588/1594 [============================>.] - ETA: 0s - loss: 0.0485 - accuracy: 0.9838\n",
      "Epoch 46: val_loss did not improve from 0.12911\n",
      "1594/1594 [==============================] - 7s 5ms/step - loss: 0.0486 - accuracy: 0.9838 - val_loss: 0.1453 - val_accuracy: 0.9646\n",
      "Epoch 47/100\n",
      "1585/1594 [============================>.] - ETA: 0s - loss: 0.0494 - accuracy: 0.9839\n",
      "Epoch 47: val_loss did not improve from 0.12911\n",
      "1594/1594 [==============================] - 7s 5ms/step - loss: 0.0493 - accuracy: 0.9839 - val_loss: 0.1458 - val_accuracy: 0.9654\n",
      "Epoch 48/100\n",
      "1592/1594 [============================>.] - ETA: 0s - loss: 0.0475 - accuracy: 0.9838\n",
      "Epoch 48: val_loss did not improve from 0.12911\n",
      "1594/1594 [==============================] - 7s 5ms/step - loss: 0.0476 - accuracy: 0.9837 - val_loss: 0.1538 - val_accuracy: 0.9625\n",
      "Epoch 49/100\n",
      "1581/1594 [============================>.] - ETA: 0s - loss: 0.0460 - accuracy: 0.9844\n",
      "Epoch 49: val_loss did not improve from 0.12911\n",
      "1594/1594 [==============================] - 7s 4ms/step - loss: 0.0458 - accuracy: 0.9845 - val_loss: 0.1509 - val_accuracy: 0.9618\n",
      "Epoch 50/100\n",
      "1590/1594 [============================>.] - ETA: 0s - loss: 0.0429 - accuracy: 0.9858\n",
      "Epoch 50: val_loss did not improve from 0.12911\n",
      "1594/1594 [==============================] - 7s 4ms/step - loss: 0.0429 - accuracy: 0.9859 - val_loss: 0.1471 - val_accuracy: 0.9629\n",
      "Epoch 51/100\n",
      "1592/1594 [============================>.] - ETA: 0s - loss: 0.0455 - accuracy: 0.9850\n",
      "Epoch 51: val_loss did not improve from 0.12911\n",
      "1594/1594 [==============================] - 7s 4ms/step - loss: 0.0455 - accuracy: 0.9850 - val_loss: 0.1627 - val_accuracy: 0.9609\n",
      "Epoch 52/100\n",
      "1593/1594 [============================>.] - ETA: 0s - loss: 0.0399 - accuracy: 0.9867\n",
      "Epoch 52: val_loss did not improve from 0.12911\n",
      "1594/1594 [==============================] - 7s 5ms/step - loss: 0.0400 - accuracy: 0.9867 - val_loss: 0.1537 - val_accuracy: 0.9626\n",
      "Epoch 53/100\n",
      "1587/1594 [============================>.] - ETA: 0s - loss: 0.0399 - accuracy: 0.9868\n",
      "Epoch 53: val_loss did not improve from 0.12911\n",
      "1594/1594 [==============================] - 7s 4ms/step - loss: 0.0398 - accuracy: 0.9868 - val_loss: 0.1581 - val_accuracy: 0.9616\n",
      "Epoch 54/100\n",
      "1587/1594 [============================>.] - ETA: 0s - loss: 0.0393 - accuracy: 0.9879\n",
      "Epoch 54: val_loss did not improve from 0.12911\n",
      "1594/1594 [==============================] - 7s 4ms/step - loss: 0.0394 - accuracy: 0.9878 - val_loss: 0.1603 - val_accuracy: 0.9641\n",
      "Epoch 55/100\n"
     ]
    },
    {
     "name": "stdout",
     "output_type": "stream",
     "text": [
      "1581/1594 [============================>.] - ETA: 0s - loss: 0.0375 - accuracy: 0.9876\n",
      "Epoch 55: val_loss did not improve from 0.12911\n",
      "1594/1594 [==============================] - 8s 5ms/step - loss: 0.0374 - accuracy: 0.9876 - val_loss: 0.1593 - val_accuracy: 0.9642\n",
      "Epoch 56/100\n",
      "1581/1594 [============================>.] - ETA: 0s - loss: 0.0373 - accuracy: 0.9872\n",
      "Epoch 56: val_loss did not improve from 0.12911\n",
      "1594/1594 [==============================] - 7s 4ms/step - loss: 0.0372 - accuracy: 0.9872 - val_loss: 0.1669 - val_accuracy: 0.9646\n",
      "Epoch 57/100\n",
      "1587/1594 [============================>.] - ETA: 0s - loss: 0.0377 - accuracy: 0.9882\n",
      "Epoch 57: val_loss did not improve from 0.12911\n",
      "1594/1594 [==============================] - 7s 4ms/step - loss: 0.0377 - accuracy: 0.9882 - val_loss: 0.1795 - val_accuracy: 0.9613\n",
      "Epoch 58/100\n",
      "1582/1594 [============================>.] - ETA: 0s - loss: 0.0391 - accuracy: 0.9873\n",
      "Epoch 58: val_loss did not improve from 0.12911\n",
      "1594/1594 [==============================] - 7s 4ms/step - loss: 0.0390 - accuracy: 0.9874 - val_loss: 0.1539 - val_accuracy: 0.9643\n",
      "Epoch 59/100\n",
      "1583/1594 [============================>.] - ETA: 0s - loss: 0.0344 - accuracy: 0.9888\n",
      "Epoch 59: val_loss did not improve from 0.12911\n",
      "1594/1594 [==============================] - 7s 4ms/step - loss: 0.0344 - accuracy: 0.9889 - val_loss: 0.1806 - val_accuracy: 0.9627\n",
      "Epoch 60/100\n",
      "1581/1594 [============================>.] - ETA: 0s - loss: 0.0317 - accuracy: 0.9898\n",
      "Epoch 60: val_loss did not improve from 0.12911\n",
      "1594/1594 [==============================] - 7s 5ms/step - loss: 0.0316 - accuracy: 0.9898 - val_loss: 0.1633 - val_accuracy: 0.9647\n",
      "Epoch 61/100\n",
      "1589/1594 [============================>.] - ETA: 0s - loss: 0.0333 - accuracy: 0.9894\n",
      "Epoch 61: val_loss did not improve from 0.12911\n",
      "1594/1594 [==============================] - 8s 5ms/step - loss: 0.0333 - accuracy: 0.9894 - val_loss: 0.1645 - val_accuracy: 0.9649\n",
      "Epoch 62/100\n",
      "1586/1594 [============================>.] - ETA: 0s - loss: 0.0327 - accuracy: 0.9891\n",
      "Epoch 62: val_loss did not improve from 0.12911\n",
      "1594/1594 [==============================] - 7s 4ms/step - loss: 0.0327 - accuracy: 0.9890 - val_loss: 0.1605 - val_accuracy: 0.9630\n",
      "Epoch 63/100\n",
      "1591/1594 [============================>.] - ETA: 0s - loss: 0.0342 - accuracy: 0.9895\n",
      "Epoch 63: val_loss did not improve from 0.12911\n",
      "1594/1594 [==============================] - 7s 4ms/step - loss: 0.0342 - accuracy: 0.9895 - val_loss: 0.1581 - val_accuracy: 0.9632\n",
      "Epoch 64/100\n",
      "1591/1594 [============================>.] - ETA: 0s - loss: 0.0311 - accuracy: 0.9903\n",
      "Epoch 64: val_loss did not improve from 0.12911\n",
      "1594/1594 [==============================] - 7s 5ms/step - loss: 0.0310 - accuracy: 0.9903 - val_loss: 0.1603 - val_accuracy: 0.9636\n",
      "Epoch 65/100\n",
      "1592/1594 [============================>.] - ETA: 0s - loss: 0.0298 - accuracy: 0.9904\n",
      "Epoch 65: val_loss did not improve from 0.12911\n",
      "1594/1594 [==============================] - 7s 5ms/step - loss: 0.0299 - accuracy: 0.9904 - val_loss: 0.1761 - val_accuracy: 0.9649\n",
      "Epoch 66/100\n",
      "1584/1594 [============================>.] - ETA: 0s - loss: 0.0317 - accuracy: 0.9900\n",
      "Epoch 66: val_loss did not improve from 0.12911\n",
      "1594/1594 [==============================] - 7s 4ms/step - loss: 0.0316 - accuracy: 0.9900 - val_loss: 0.1717 - val_accuracy: 0.9642\n",
      "Epoch 67/100\n",
      "1584/1594 [============================>.] - ETA: 0s - loss: 0.0265 - accuracy: 0.9914\n",
      "Epoch 67: val_loss did not improve from 0.12911\n",
      "1594/1594 [==============================] - 7s 4ms/step - loss: 0.0266 - accuracy: 0.9914 - val_loss: 0.1709 - val_accuracy: 0.9645\n",
      "Epoch 68/100\n",
      "1586/1594 [============================>.] - ETA: 0s - loss: 0.0271 - accuracy: 0.9910\n",
      "Epoch 68: val_loss did not improve from 0.12911\n",
      "1594/1594 [==============================] - 7s 4ms/step - loss: 0.0274 - accuracy: 0.9909 - val_loss: 0.1668 - val_accuracy: 0.9627\n",
      "Epoch 69/100\n",
      "1592/1594 [============================>.] - ETA: 0s - loss: 0.0274 - accuracy: 0.9911\n",
      "Epoch 69: val_loss did not improve from 0.12911\n",
      "1594/1594 [==============================] - 7s 5ms/step - loss: 0.0274 - accuracy: 0.9912 - val_loss: 0.1938 - val_accuracy: 0.9609\n",
      "Epoch 70/100\n",
      "1582/1594 [============================>.] - ETA: 0s - loss: 0.0290 - accuracy: 0.9911\n",
      "Epoch 70: val_loss did not improve from 0.12911\n",
      "1594/1594 [==============================] - 7s 4ms/step - loss: 0.0290 - accuracy: 0.9911 - val_loss: 0.1589 - val_accuracy: 0.9652\n",
      "Epoch 71/100\n",
      "1594/1594 [==============================] - ETA: 0s - loss: 0.0268 - accuracy: 0.9912\n",
      "Epoch 71: val_loss did not improve from 0.12911\n",
      "1594/1594 [==============================] - 7s 4ms/step - loss: 0.0268 - accuracy: 0.9912 - val_loss: 0.1728 - val_accuracy: 0.9624\n",
      "Epoch 72/100\n",
      "1585/1594 [============================>.] - ETA: 0s - loss: 0.0246 - accuracy: 0.9923\n",
      "Epoch 72: val_loss did not improve from 0.12911\n",
      "1594/1594 [==============================] - 7s 4ms/step - loss: 0.0246 - accuracy: 0.9923 - val_loss: 0.1820 - val_accuracy: 0.9633\n",
      "Epoch 73/100\n",
      "1585/1594 [============================>.] - ETA: 0s - loss: 0.0263 - accuracy: 0.9918\n",
      "Epoch 73: val_loss did not improve from 0.12911\n",
      "1594/1594 [==============================] - 7s 4ms/step - loss: 0.0265 - accuracy: 0.9917 - val_loss: 0.1846 - val_accuracy: 0.9636\n",
      "Epoch 74/100\n",
      "1583/1594 [============================>.] - ETA: 0s - loss: 0.0279 - accuracy: 0.9914\n",
      "Epoch 74: val_loss did not improve from 0.12911\n",
      "1594/1594 [==============================] - 7s 4ms/step - loss: 0.0279 - accuracy: 0.9914 - val_loss: 0.1758 - val_accuracy: 0.9631\n",
      "Epoch 75/100\n",
      "1592/1594 [============================>.] - ETA: 0s - loss: 0.0250 - accuracy: 0.9921\n",
      "Epoch 75: val_loss did not improve from 0.12911\n",
      "1594/1594 [==============================] - 7s 4ms/step - loss: 0.0249 - accuracy: 0.9921 - val_loss: 0.1825 - val_accuracy: 0.9617\n",
      "Epoch 76/100\n",
      "1591/1594 [============================>.] - ETA: 0s - loss: 0.0237 - accuracy: 0.9927\n",
      "Epoch 76: val_loss did not improve from 0.12911\n",
      "1594/1594 [==============================] - 7s 4ms/step - loss: 0.0239 - accuracy: 0.9926 - val_loss: 0.1861 - val_accuracy: 0.9628\n",
      "Epoch 77/100\n",
      "1583/1594 [============================>.] - ETA: 0s - loss: 0.0242 - accuracy: 0.9921\n",
      "Epoch 77: val_loss did not improve from 0.12911\n",
      "1594/1594 [==============================] - 7s 4ms/step - loss: 0.0243 - accuracy: 0.9921 - val_loss: 0.1771 - val_accuracy: 0.9664\n",
      "Epoch 78/100\n",
      "1594/1594 [==============================] - ETA: 0s - loss: 0.0241 - accuracy: 0.9924\n",
      "Epoch 78: val_loss did not improve from 0.12911\n",
      "1594/1594 [==============================] - 7s 4ms/step - loss: 0.0241 - accuracy: 0.9924 - val_loss: 0.1696 - val_accuracy: 0.9642\n",
      "Epoch 79/100\n",
      "1582/1594 [============================>.] - ETA: 0s - loss: 0.0225 - accuracy: 0.9928\n",
      "Epoch 79: val_loss did not improve from 0.12911\n",
      "1594/1594 [==============================] - 7s 5ms/step - loss: 0.0225 - accuracy: 0.9928 - val_loss: 0.1895 - val_accuracy: 0.9642\n",
      "Epoch 80/100\n",
      "1589/1594 [============================>.] - ETA: 0s - loss: 0.0259 - accuracy: 0.9918\n",
      "Epoch 80: val_loss did not improve from 0.12911\n",
      "1594/1594 [==============================] - 7s 5ms/step - loss: 0.0259 - accuracy: 0.9918 - val_loss: 0.1759 - val_accuracy: 0.9654\n",
      "Epoch 81/100\n",
      "1590/1594 [============================>.] - ETA: 0s - loss: 0.0189 - accuracy: 0.9937\n",
      "Epoch 81: val_loss did not improve from 0.12911\n",
      "1594/1594 [==============================] - 7s 4ms/step - loss: 0.0189 - accuracy: 0.9936 - val_loss: 0.1882 - val_accuracy: 0.9638\n",
      "Epoch 82/100\n",
      "1580/1594 [============================>.] - ETA: 0s - loss: 0.0239 - accuracy: 0.9928\n",
      "Epoch 82: val_loss did not improve from 0.12911\n",
      "1594/1594 [==============================] - 7s 4ms/step - loss: 0.0237 - accuracy: 0.9929 - val_loss: 0.1850 - val_accuracy: 0.9627\n",
      "Epoch 83/100\n",
      "1584/1594 [============================>.] - ETA: 0s - loss: 0.0220 - accuracy: 0.9933\n",
      "Epoch 83: val_loss did not improve from 0.12911\n",
      "1594/1594 [==============================] - 7s 5ms/step - loss: 0.0220 - accuracy: 0.9933 - val_loss: 0.1851 - val_accuracy: 0.9651\n",
      "Epoch 84/100\n"
     ]
    },
    {
     "name": "stdout",
     "output_type": "stream",
     "text": [
      "1588/1594 [============================>.] - ETA: 0s - loss: 0.0201 - accuracy: 0.9935\n",
      "Epoch 84: val_loss did not improve from 0.12911\n",
      "1594/1594 [==============================] - 7s 4ms/step - loss: 0.0201 - accuracy: 0.9935 - val_loss: 0.1806 - val_accuracy: 0.9636\n",
      "Epoch 85/100\n",
      "1582/1594 [============================>.] - ETA: 0s - loss: 0.0202 - accuracy: 0.9937\n",
      "Epoch 85: val_loss did not improve from 0.12911\n",
      "1594/1594 [==============================] - 7s 4ms/step - loss: 0.0204 - accuracy: 0.9936 - val_loss: 0.1834 - val_accuracy: 0.9645\n",
      "Epoch 86/100\n",
      "1593/1594 [============================>.] - ETA: 0s - loss: 0.0221 - accuracy: 0.9930\n",
      "Epoch 86: val_loss did not improve from 0.12911\n",
      "1594/1594 [==============================] - 7s 4ms/step - loss: 0.0221 - accuracy: 0.9930 - val_loss: 0.1825 - val_accuracy: 0.9640\n",
      "Epoch 87/100\n",
      "1591/1594 [============================>.] - ETA: 0s - loss: 0.0207 - accuracy: 0.9936\n",
      "Epoch 87: val_loss did not improve from 0.12911\n",
      "1594/1594 [==============================] - 7s 4ms/step - loss: 0.0207 - accuracy: 0.9936 - val_loss: 0.1924 - val_accuracy: 0.9648\n",
      "Epoch 88/100\n",
      "1586/1594 [============================>.] - ETA: 0s - loss: 0.0174 - accuracy: 0.9947\n",
      "Epoch 88: val_loss did not improve from 0.12911\n",
      "1594/1594 [==============================] - 7s 4ms/step - loss: 0.0174 - accuracy: 0.9947 - val_loss: 0.1921 - val_accuracy: 0.9637\n",
      "Epoch 89/100\n",
      "1593/1594 [============================>.] - ETA: 0s - loss: 0.0218 - accuracy: 0.9933\n",
      "Epoch 89: val_loss did not improve from 0.12911\n",
      "1594/1594 [==============================] - 7s 4ms/step - loss: 0.0218 - accuracy: 0.9933 - val_loss: 0.1889 - val_accuracy: 0.9641\n",
      "Epoch 90/100\n",
      "1581/1594 [============================>.] - ETA: 0s - loss: 0.0202 - accuracy: 0.9938\n",
      "Epoch 90: val_loss did not improve from 0.12911\n",
      "1594/1594 [==============================] - 7s 4ms/step - loss: 0.0203 - accuracy: 0.9938 - val_loss: 0.1874 - val_accuracy: 0.9657\n",
      "Epoch 91/100\n",
      "1584/1594 [============================>.] - ETA: 0s - loss: 0.0194 - accuracy: 0.9942\n",
      "Epoch 91: val_loss did not improve from 0.12911\n",
      "1594/1594 [==============================] - 7s 4ms/step - loss: 0.0193 - accuracy: 0.9942 - val_loss: 0.2157 - val_accuracy: 0.9622\n",
      "Epoch 92/100\n",
      "1587/1594 [============================>.] - ETA: 0s - loss: 0.0208 - accuracy: 0.9938\n",
      "Epoch 92: val_loss did not improve from 0.12911\n",
      "1594/1594 [==============================] - 7s 4ms/step - loss: 0.0209 - accuracy: 0.9938 - val_loss: 0.1864 - val_accuracy: 0.9647\n",
      "Epoch 93/100\n",
      "1590/1594 [============================>.] - ETA: 0s - loss: 0.0181 - accuracy: 0.9947\n",
      "Epoch 93: val_loss did not improve from 0.12911\n",
      "1594/1594 [==============================] - 7s 4ms/step - loss: 0.0181 - accuracy: 0.9947 - val_loss: 0.2131 - val_accuracy: 0.9628\n",
      "Epoch 94/100\n",
      "1589/1594 [============================>.] - ETA: 0s - loss: 0.0179 - accuracy: 0.9943\n",
      "Epoch 94: val_loss did not improve from 0.12911\n",
      "1594/1594 [==============================] - 7s 4ms/step - loss: 0.0179 - accuracy: 0.9943 - val_loss: 0.1874 - val_accuracy: 0.9645\n",
      "Epoch 95/100\n",
      "1581/1594 [============================>.] - ETA: 0s - loss: 0.0174 - accuracy: 0.9946\n",
      "Epoch 95: val_loss did not improve from 0.12911\n",
      "1594/1594 [==============================] - 7s 4ms/step - loss: 0.0177 - accuracy: 0.9945 - val_loss: 0.2192 - val_accuracy: 0.9621\n",
      "Epoch 96/100\n",
      "1590/1594 [============================>.] - ETA: 0s - loss: 0.0188 - accuracy: 0.9940\n",
      "Epoch 96: val_loss did not improve from 0.12911\n",
      "1594/1594 [==============================] - 7s 4ms/step - loss: 0.0188 - accuracy: 0.9940 - val_loss: 0.1924 - val_accuracy: 0.9663\n",
      "Epoch 97/100\n",
      "1587/1594 [============================>.] - ETA: 0s - loss: 0.0179 - accuracy: 0.9946\n",
      "Epoch 97: val_loss did not improve from 0.12911\n",
      "1594/1594 [==============================] - 7s 4ms/step - loss: 0.0179 - accuracy: 0.9946 - val_loss: 0.2138 - val_accuracy: 0.9631\n",
      "Epoch 98/100\n",
      "1593/1594 [============================>.] - ETA: 0s - loss: 0.0198 - accuracy: 0.9939\n",
      "Epoch 98: val_loss did not improve from 0.12911\n",
      "1594/1594 [==============================] - 7s 4ms/step - loss: 0.0198 - accuracy: 0.9939 - val_loss: 0.1990 - val_accuracy: 0.9646\n",
      "Epoch 99/100\n",
      "1582/1594 [============================>.] - ETA: 0s - loss: 0.0176 - accuracy: 0.9945\n",
      "Epoch 99: val_loss did not improve from 0.12911\n",
      "1594/1594 [==============================] - 7s 4ms/step - loss: 0.0177 - accuracy: 0.9945 - val_loss: 0.1874 - val_accuracy: 0.9646\n",
      "Epoch 100/100\n",
      "1587/1594 [============================>.] - ETA: 0s - loss: 0.0178 - accuracy: 0.9945\n",
      "Epoch 100: val_loss did not improve from 0.12911\n",
      "1594/1594 [==============================] - 7s 4ms/step - loss: 0.0178 - accuracy: 0.9945 - val_loss: 0.1956 - val_accuracy: 0.9639\n",
      "Training completed in time:  0:11:51.323561\n"
     ]
    }
   ],
   "source": [
    "## Trianing my model\n",
    "from tensorflow.keras.callbacks import ModelCheckpoint\n",
    "from datetime import datetime \n",
    "\n",
    "num_epochs = 100\n",
    "num_batch_size = 32\n",
    "\n",
    "checkpointer = ModelCheckpoint(filepath='saved_model/chord_classification.hdf5', \n",
    "                               verbose=1, save_best_only=True)\n",
    "start = datetime.now()\n",
    "\n",
    "history= model.fit(X_train, y_train, batch_size=num_batch_size, epochs=num_epochs, validation_data=(X_test, y_test), callbacks=[checkpointer], verbose=1)\n",
    "\n",
    "\n",
    "duration = datetime.now() - start\n",
    "print(\"Training completed in time: \", duration)"
   ]
  },
  {
   "cell_type": "code",
   "execution_count": 27,
   "id": "3e44da8f",
   "metadata": {},
   "outputs": [
    {
     "data": {
      "text/plain": [
       "Text(0.5, 0, 'epochs')"
      ]
     },
     "execution_count": 27,
     "metadata": {},
     "output_type": "execute_result"
    },
    {
     "data": {
      "image/png": "[encoded data removed]",
      "text/plain": [
       "<Figure size 640x480 with 1 Axes>"
      ]
     },
     "metadata": {},
     "output_type": "display_data"
    }
   ],
   "source": [
    "#plot history\n",
    "pd.DataFrame(history.history).plot()\n",
    "plt.ylabel(\"loss\")\n",
    "plt.xlabel(\"epochs\")"
   ]
  },
  {
   "cell_type": "code",
   "execution_count": 28,
   "id": "e3d89e7e",
   "metadata": {},
   "outputs": [
    {
     "data": {
      "text/html": [
       "<div>\n",
       "<style scoped>\n",
       "    .dataframe tbody tr th:only-of-type {\n",
       "        vertical-align: middle;\n",
       "    }\n",
       "\n",
       "    .dataframe tbody tr th {\n",
       "        vertical-align: top;\n",
       "    }\n",
       "\n",
       "    .dataframe thead th {\n",
       "        text-align: right;\n",
       "    }\n",
       "</style>\n",
       "<table border=\"1\" class=\"dataframe\">\n",
       "  <thead>\n",
       "    <tr style=\"text-align: right;\">\n",
       "      <th></th>\n",
       "      <th>loss</th>\n",
       "      <th>accuracy</th>\n",
       "      <th>val_loss</th>\n",
       "      <th>val_accuracy</th>\n",
       "    </tr>\n",
       "  </thead>\n",
       "  <tbody>\n",
       "    <tr>\n",
       "      <th>0</th>\n",
       "      <td>2.748368</td>\n",
       "      <td>0.231416</td>\n",
       "      <td>0.819779</td>\n",
       "      <td>0.794353</td>\n",
       "    </tr>\n",
       "    <tr>\n",
       "      <th>1</th>\n",
       "      <td>0.876197</td>\n",
       "      <td>0.731838</td>\n",
       "      <td>0.355067</td>\n",
       "      <td>0.893569</td>\n",
       "    </tr>\n",
       "    <tr>\n",
       "      <th>2</th>\n",
       "      <td>0.553455</td>\n",
       "      <td>0.832369</td>\n",
       "      <td>0.341200</td>\n",
       "      <td>0.892157</td>\n",
       "    </tr>\n",
       "    <tr>\n",
       "      <th>3</th>\n",
       "      <td>0.460389</td>\n",
       "      <td>0.863723</td>\n",
       "      <td>0.255745</td>\n",
       "      <td>0.920706</td>\n",
       "    </tr>\n",
       "    <tr>\n",
       "      <th>4</th>\n",
       "      <td>0.401013</td>\n",
       "      <td>0.878488</td>\n",
       "      <td>0.263047</td>\n",
       "      <td>0.919294</td>\n",
       "    </tr>\n",
       "    <tr>\n",
       "      <th>...</th>\n",
       "      <td>...</td>\n",
       "      <td>...</td>\n",
       "      <td>...</td>\n",
       "      <td>...</td>\n",
       "    </tr>\n",
       "    <tr>\n",
       "      <th>95</th>\n",
       "      <td>0.018836</td>\n",
       "      <td>0.994020</td>\n",
       "      <td>0.192366</td>\n",
       "      <td>0.966274</td>\n",
       "    </tr>\n",
       "    <tr>\n",
       "      <th>96</th>\n",
       "      <td>0.017881</td>\n",
       "      <td>0.994627</td>\n",
       "      <td>0.213792</td>\n",
       "      <td>0.963137</td>\n",
       "    </tr>\n",
       "    <tr>\n",
       "      <th>97</th>\n",
       "      <td>0.019828</td>\n",
       "      <td>0.993941</td>\n",
       "      <td>0.199032</td>\n",
       "      <td>0.964627</td>\n",
       "    </tr>\n",
       "    <tr>\n",
       "      <th>98</th>\n",
       "      <td>0.017689</td>\n",
       "      <td>0.994549</td>\n",
       "      <td>0.187423</td>\n",
       "      <td>0.964627</td>\n",
       "    </tr>\n",
       "    <tr>\n",
       "      <th>99</th>\n",
       "      <td>0.017800</td>\n",
       "      <td>0.994470</td>\n",
       "      <td>0.195605</td>\n",
       "      <td>0.963922</td>\n",
       "    </tr>\n",
       "  </tbody>\n",
       "</table>\n",
       "<p>100 rows × 4 columns</p>\n",
       "</div>"
      ],
      "text/plain": [
       "        loss  accuracy  val_loss  val_accuracy\n",
       "0   2.748368  0.231416  0.819779      0.794353\n",
       "1   0.876197  0.731838  0.355067      0.893569\n",
       "2   0.553455  0.832369  0.341200      0.892157\n",
       "3   0.460389  0.863723  0.255745      0.920706\n",
       "4   0.401013  0.878488  0.263047      0.919294\n",
       "..       ...       ...       ...           ...\n",
       "95  0.018836  0.994020  0.192366      0.966274\n",
       "96  0.017881  0.994627  0.213792      0.963137\n",
       "97  0.019828  0.993941  0.199032      0.964627\n",
       "98  0.017689  0.994549  0.187423      0.964627\n",
       "99  0.017800  0.994470  0.195605      0.963922\n",
       "\n",
       "[100 rows x 4 columns]"
      ]
     },
     "execution_count": 28,
     "metadata": {},
     "output_type": "execute_result"
    }
   ],
   "source": [
    "pd.DataFrame(history.history)"
   ]
  },
  {
   "cell_type": "code",
   "execution_count": null,
   "id": "a1294a44",
   "metadata": {},
   "outputs": [],
   "source": [
    "test_accuracy=model.evaluate(X_test,y_test,verbose=0)\n",
    "print(test_accuracy[1])"
   ]
  },
  {
   "cell_type": "code",
   "execution_count": null,
   "id": "0a6d0f10",
   "metadata": {},
   "outputs": [],
   "source": [
    "filename=\"input/Chord Sample Guitar String.wav\"\n",
    "prediction_feature =  features_extractor(filename)\n",
    "prediction_feature = prediction_feature.reshape(1,-1)\n",
    "predict_x=model.predict(prediction_feature)\n",
    "classes_x=np.argmax(predict_x,axis=1)\n",
    "classes_x\n"
   ]
  },
  {
   "attachments": {},
   "cell_type": "markdown",
   "id": "08cc6418",
   "metadata": {},
   "source": [
    "prediction"
   ]
  },
  {
   "cell_type": "code",
   "execution_count": null,
   "id": "8a3dbf03",
   "metadata": {},
   "outputs": [],
   "source": [
    "filename=\"input/Chord Sample Guitar String.wav\"\n",
    "audio, sample_rate = librosa.load(filename, res_type='kaiser_fast') \n",
    "mfccs_features = librosa.feature.mfcc(y=audio, sr=sample_rate, n_mfcc=40)\n",
    "mfccs_scaled_features = np.mean(mfccs_features.T,axis=0)\n",
    "\n",
    "print(mfccs_scaled_features)\n",
    "mfccs_scaled_features=mfccs_scaled_features.reshape(1,-1)\n",
    "print(mfccs_scaled_features)\n",
    "print(mfccs_scaled_features.shape)\n",
    "prediction=model.predict(mfccs_scaled_features)\n",
    "predicted_label = np.argmax(prediction, axis=1)\n",
    "print(predicted_label)\n",
    "prediction_class = labelencoder.inverse_transform(predicted_label) \n",
    "prediction_class"
   ]
  },
  {
   "cell_type": "code",
   "execution_count": null,
   "id": "214a256c",
   "metadata": {},
   "outputs": [],
   "source": [
    "from tensorflow.keras.models import load_model\n",
    "\n",
    "loadmodel=load_model('saved_model13/chord_classification13.hdf5')"
   ]
  },
  {
   "cell_type": "code",
   "execution_count": null,
   "id": "e5451a96",
   "metadata": {},
   "outputs": [],
   "source": [
    "import numpy as np"
   ]
  },
  {
   "cell_type": "code",
   "execution_count": null,
   "id": "977cd22d",
   "metadata": {},
   "outputs": [],
   "source": [
    "filename=\"input/Gm.wav\"\n",
    "audio, sample_rate = librosa.load(filename, res_type='kaiser_fast') \n",
    "mfccs_features = librosa.feature.mfcc(y=audio, sr=sample_rate, n_mfcc=40)\n",
    "mfccs_scaled_features = np.mean(mfccs_features.T,axis=0)\n",
    "\n",
    "print(mfccs_scaled_features)\n",
    "mfccs_scaled_features=mfccs_scaled_features.reshape(1,-1)\n",
    "print(mfccs_scaled_features)\n",
    "print(mfccs_scaled_features.shape)\n",
    "prediction=loadmodel.predict(mfccs_scaled_features)\n",
    "predicted_label = np.argmax(prediction, axis=1)\n",
    "print(predicted_label)\n",
    "prediction_class = labelencoder.inverse_transform(predicted_label) \n",
    "prediction_class"
   ]
  },
  {
   "cell_type": "code",
   "execution_count": null,
   "id": "d61b5915",
   "metadata": {},
   "outputs": [],
   "source": []
  },
  {
   "cell_type": "code",
   "execution_count": null,
   "id": "439f1509",
   "metadata": {},
   "outputs": [],
   "source": []
  },
  {
   "cell_type": "code",
   "execution_count": null,
   "id": "f6a49753",
   "metadata": {},
   "outputs": [],
   "source": []
  }
 ],
 "metadata": {
  "kernelspec": {
   "display_name": "Python 3 (ipykernel)",
   "language": "python",
   "name": "python3"
  },
  "language_info": {
   "codemirror_mode": {
    "name": "ipython",
    "version": 3
   },
   "file_extension": ".py",
   "mimetype": "text/x-python",
   "name": "python",
   "nbconvert_exporter": "python",
   "pygments_lexer": "ipython3",
   "version": "3.7.0"
  }
 },
 "nbformat": 4,
 "nbformat_minor": 5
}
